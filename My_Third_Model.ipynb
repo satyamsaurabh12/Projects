{
 "cells": [
  {
   "cell_type": "code",
   "execution_count": 220,
   "id": "f32e5d7e-c89b-44e0-ba83-91ddb414f033",
   "metadata": {},
   "outputs": [],
   "source": [
    "import pandas as pd\n",
    "import numpy as np\n",
    "import matplotlib.pyplot as plt\n",
    "import seaborn as sns\n",
    "import warnings\n",
    "warnings.filterwarnings('ignore')"
   ]
  },
  {
   "cell_type": "code",
   "execution_count": 221,
   "id": "aa79f52f-2b35-4013-bb44-305c44c5a3db",
   "metadata": {},
   "outputs": [
    {
     "data": {
      "text/html": [
       "<div>\n",
       "<style scoped>\n",
       "    .dataframe tbody tr th:only-of-type {\n",
       "        vertical-align: middle;\n",
       "    }\n",
       "\n",
       "    .dataframe tbody tr th {\n",
       "        vertical-align: top;\n",
       "    }\n",
       "\n",
       "    .dataframe thead th {\n",
       "        text-align: right;\n",
       "    }\n",
       "</style>\n",
       "<table border=\"1\" class=\"dataframe\">\n",
       "  <thead>\n",
       "    <tr style=\"text-align: right;\">\n",
       "      <th></th>\n",
       "      <th>Pregnancies</th>\n",
       "      <th>Glucose</th>\n",
       "      <th>BloodPressure</th>\n",
       "      <th>SkinThickness</th>\n",
       "      <th>Insulin</th>\n",
       "      <th>BMI</th>\n",
       "      <th>DiabetesPedigreeFunction</th>\n",
       "      <th>Age</th>\n",
       "      <th>Outcome</th>\n",
       "    </tr>\n",
       "  </thead>\n",
       "  <tbody>\n",
       "    <tr>\n",
       "      <th>0</th>\n",
       "      <td>6</td>\n",
       "      <td>148</td>\n",
       "      <td>72</td>\n",
       "      <td>35</td>\n",
       "      <td>0</td>\n",
       "      <td>33.6</td>\n",
       "      <td>0.627</td>\n",
       "      <td>50</td>\n",
       "      <td>1</td>\n",
       "    </tr>\n",
       "    <tr>\n",
       "      <th>1</th>\n",
       "      <td>1</td>\n",
       "      <td>85</td>\n",
       "      <td>66</td>\n",
       "      <td>29</td>\n",
       "      <td>0</td>\n",
       "      <td>26.6</td>\n",
       "      <td>0.351</td>\n",
       "      <td>31</td>\n",
       "      <td>0</td>\n",
       "    </tr>\n",
       "    <tr>\n",
       "      <th>2</th>\n",
       "      <td>8</td>\n",
       "      <td>183</td>\n",
       "      <td>64</td>\n",
       "      <td>0</td>\n",
       "      <td>0</td>\n",
       "      <td>23.3</td>\n",
       "      <td>0.672</td>\n",
       "      <td>32</td>\n",
       "      <td>1</td>\n",
       "    </tr>\n",
       "    <tr>\n",
       "      <th>3</th>\n",
       "      <td>1</td>\n",
       "      <td>89</td>\n",
       "      <td>66</td>\n",
       "      <td>23</td>\n",
       "      <td>94</td>\n",
       "      <td>28.1</td>\n",
       "      <td>0.167</td>\n",
       "      <td>21</td>\n",
       "      <td>0</td>\n",
       "    </tr>\n",
       "    <tr>\n",
       "      <th>4</th>\n",
       "      <td>0</td>\n",
       "      <td>137</td>\n",
       "      <td>40</td>\n",
       "      <td>35</td>\n",
       "      <td>168</td>\n",
       "      <td>43.1</td>\n",
       "      <td>2.288</td>\n",
       "      <td>33</td>\n",
       "      <td>1</td>\n",
       "    </tr>\n",
       "    <tr>\n",
       "      <th>...</th>\n",
       "      <td>...</td>\n",
       "      <td>...</td>\n",
       "      <td>...</td>\n",
       "      <td>...</td>\n",
       "      <td>...</td>\n",
       "      <td>...</td>\n",
       "      <td>...</td>\n",
       "      <td>...</td>\n",
       "      <td>...</td>\n",
       "    </tr>\n",
       "    <tr>\n",
       "      <th>763</th>\n",
       "      <td>10</td>\n",
       "      <td>101</td>\n",
       "      <td>76</td>\n",
       "      <td>48</td>\n",
       "      <td>180</td>\n",
       "      <td>32.9</td>\n",
       "      <td>0.171</td>\n",
       "      <td>63</td>\n",
       "      <td>0</td>\n",
       "    </tr>\n",
       "    <tr>\n",
       "      <th>764</th>\n",
       "      <td>2</td>\n",
       "      <td>122</td>\n",
       "      <td>70</td>\n",
       "      <td>27</td>\n",
       "      <td>0</td>\n",
       "      <td>36.8</td>\n",
       "      <td>0.340</td>\n",
       "      <td>27</td>\n",
       "      <td>0</td>\n",
       "    </tr>\n",
       "    <tr>\n",
       "      <th>765</th>\n",
       "      <td>5</td>\n",
       "      <td>121</td>\n",
       "      <td>72</td>\n",
       "      <td>23</td>\n",
       "      <td>112</td>\n",
       "      <td>26.2</td>\n",
       "      <td>0.245</td>\n",
       "      <td>30</td>\n",
       "      <td>0</td>\n",
       "    </tr>\n",
       "    <tr>\n",
       "      <th>766</th>\n",
       "      <td>1</td>\n",
       "      <td>126</td>\n",
       "      <td>60</td>\n",
       "      <td>0</td>\n",
       "      <td>0</td>\n",
       "      <td>30.1</td>\n",
       "      <td>0.349</td>\n",
       "      <td>47</td>\n",
       "      <td>1</td>\n",
       "    </tr>\n",
       "    <tr>\n",
       "      <th>767</th>\n",
       "      <td>1</td>\n",
       "      <td>93</td>\n",
       "      <td>70</td>\n",
       "      <td>31</td>\n",
       "      <td>0</td>\n",
       "      <td>30.4</td>\n",
       "      <td>0.315</td>\n",
       "      <td>23</td>\n",
       "      <td>0</td>\n",
       "    </tr>\n",
       "  </tbody>\n",
       "</table>\n",
       "<p>768 rows × 9 columns</p>\n",
       "</div>"
      ],
      "text/plain": [
       "     Pregnancies  Glucose  BloodPressure  SkinThickness  Insulin   BMI  \\\n",
       "0              6      148             72             35        0  33.6   \n",
       "1              1       85             66             29        0  26.6   \n",
       "2              8      183             64              0        0  23.3   \n",
       "3              1       89             66             23       94  28.1   \n",
       "4              0      137             40             35      168  43.1   \n",
       "..           ...      ...            ...            ...      ...   ...   \n",
       "763           10      101             76             48      180  32.9   \n",
       "764            2      122             70             27        0  36.8   \n",
       "765            5      121             72             23      112  26.2   \n",
       "766            1      126             60              0        0  30.1   \n",
       "767            1       93             70             31        0  30.4   \n",
       "\n",
       "     DiabetesPedigreeFunction  Age  Outcome  \n",
       "0                       0.627   50        1  \n",
       "1                       0.351   31        0  \n",
       "2                       0.672   32        1  \n",
       "3                       0.167   21        0  \n",
       "4                       2.288   33        1  \n",
       "..                        ...  ...      ...  \n",
       "763                     0.171   63        0  \n",
       "764                     0.340   27        0  \n",
       "765                     0.245   30        0  \n",
       "766                     0.349   47        1  \n",
       "767                     0.315   23        0  \n",
       "\n",
       "[768 rows x 9 columns]"
      ]
     },
     "execution_count": 221,
     "metadata": {},
     "output_type": "execute_result"
    }
   ],
   "source": [
    "Original_df= pd.read_csv('./diabetes.csv')\n",
    "df =Original_df.copy()\n",
    "df"
   ]
  },
  {
   "cell_type": "code",
   "execution_count": 222,
   "id": "2445308c-74ba-4037-98fe-79884352942d",
   "metadata": {},
   "outputs": [
    {
     "name": "stdout",
     "output_type": "stream",
     "text": [
      "<class 'pandas.core.frame.DataFrame'>\n",
      "RangeIndex: 768 entries, 0 to 767\n",
      "Data columns (total 9 columns):\n",
      " #   Column                    Non-Null Count  Dtype  \n",
      "---  ------                    --------------  -----  \n",
      " 0   Pregnancies               768 non-null    int64  \n",
      " 1   Glucose                   768 non-null    int64  \n",
      " 2   BloodPressure             768 non-null    int64  \n",
      " 3   SkinThickness             768 non-null    int64  \n",
      " 4   Insulin                   768 non-null    int64  \n",
      " 5   BMI                       768 non-null    float64\n",
      " 6   DiabetesPedigreeFunction  768 non-null    float64\n",
      " 7   Age                       768 non-null    int64  \n",
      " 8   Outcome                   768 non-null    int64  \n",
      "dtypes: float64(2), int64(7)\n",
      "memory usage: 54.1 KB\n"
     ]
    }
   ],
   "source": [
    "df.info()"
   ]
  },
  {
   "cell_type": "code",
   "execution_count": 223,
   "id": "b7bc82b1-d6cd-438c-899a-bafa8b458069",
   "metadata": {},
   "outputs": [
    {
     "data": {
      "text/plain": [
       "(768, 9)"
      ]
     },
     "execution_count": 223,
     "metadata": {},
     "output_type": "execute_result"
    }
   ],
   "source": [
    "df.shape"
   ]
  },
  {
   "cell_type": "code",
   "execution_count": 224,
   "id": "7fafc206-6c0d-4da2-829f-158f7d78b2c6",
   "metadata": {},
   "outputs": [],
   "source": [
    "Q1,Q3=np.percentile(df['Pregnancies'],[25,75])\n",
    "IQR=Q3-Q1\n",
    "LF=Q1-1.5*IQR\n",
    "UF=Q3+1.5*IQR\n",
    "df= df[(df['Pregnancies']>LF) & (df['Pregnancies']<UF)]"
   ]
  },
  {
   "cell_type": "code",
   "execution_count": 225,
   "id": "db28b1bc-8024-4b9d-a35b-483e85d2e97c",
   "metadata": {},
   "outputs": [],
   "source": [
    "Q1,Q3=np.percentile(df['Glucose'],[25,75])\n",
    "IQR=Q3-Q1\n",
    "LF=Q1-1.5*IQR\n",
    "UF=Q3+1.5*IQR\n",
    "df= df[(df['Glucose']>LF) & (df['Glucose']<UF)]"
   ]
  },
  {
   "cell_type": "code",
   "execution_count": 226,
   "id": "0639e233-4bd7-441e-a2e1-458302b7d501",
   "metadata": {},
   "outputs": [],
   "source": [
    "Q1,Q3=np.percentile(df['BloodPressure'],[25,75])\n",
    "IQR=Q3-Q1\n",
    "LF=Q1-1.5*IQR\n",
    "UF=Q3+1.5*IQR\n",
    "df= df[(df['BloodPressure']>LF) & (df['BloodPressure']<UF)]"
   ]
  },
  {
   "cell_type": "code",
   "execution_count": 227,
   "id": "307c7296-3abc-4e2d-8e8b-8e1710ffddbc",
   "metadata": {},
   "outputs": [],
   "source": [
    "Q1,Q3=np.percentile(df['SkinThickness'],[25,75])\n",
    "IQR=Q3-Q1\n",
    "LF=Q1-1.5*IQR\n",
    "UF=Q3+1.5*IQR\n",
    "df= df[(df['SkinThickness']>LF) & (df['SkinThickness']<UF)]"
   ]
  },
  {
   "cell_type": "code",
   "execution_count": 228,
   "id": "0d31a8c0-9b0c-4294-b24f-13ed98ae5028",
   "metadata": {},
   "outputs": [],
   "source": [
    "Q1,Q3=np.percentile(df['Insulin'],[25,75])\n",
    "IQR=Q3-Q1\n",
    "LF=Q1-1.5*IQR\n",
    "UF=Q3+1.5*IQR\n",
    "df= df[(df['Insulin']>LF) & (df['Insulin']<UF)]"
   ]
  },
  {
   "cell_type": "code",
   "execution_count": 229,
   "id": "a6ed65cf-c13c-4dc1-b4b8-b9ce40e2b59f",
   "metadata": {},
   "outputs": [
    {
     "data": {
      "text/plain": [
       "<Axes: xlabel='BMI'>"
      ]
     },
     "execution_count": 229,
     "metadata": {},
     "output_type": "execute_result"
    },
    {
     "data": {
      "image/png": "[encoded data removed]",
      "text/plain": [
       "<Figure size 640x480 with 1 Axes>"
      ]
     },
     "metadata": {},
     "output_type": "display_data"
    }
   ],
   "source": [
    "sns.boxplot(x= df['BMI'],data=df)"
   ]
  },
  {
   "cell_type": "code",
   "execution_count": 230,
   "id": "8caf0271-4253-404e-98dd-bc3bbd4d3340",
   "metadata": {},
   "outputs": [],
   "source": [
    "Q1,Q3=np.percentile(df['BMI'],[25,75])\n",
    "IQR=Q3-Q1\n",
    "LF=Q1-1.5*IQR\n",
    "UF=Q3+1.5*IQR\n",
    "df= df[(df['BMI']>LF) & (df['BMI']<UF)]"
   ]
  },
  {
   "cell_type": "code",
   "execution_count": 231,
   "id": "cf9dbd97-f7f0-4459-94e1-bb4bfd889ef8",
   "metadata": {},
   "outputs": [
    {
     "data": {
      "text/plain": [
       "<Axes: xlabel='DiabetesPedigreeFunction'>"
      ]
     },
     "execution_count": 231,
     "metadata": {},
     "output_type": "execute_result"
    },
    {
     "data": {
      "image/png": "[encoded data removed]",
      "text/plain": [
       "<Figure size 640x480 with 1 Axes>"
      ]
     },
     "metadata": {},
     "output_type": "display_data"
    }
   ],
   "source": [
    "sns.boxplot(x= df['DiabetesPedigreeFunction'],data=df)"
   ]
  },
  {
   "cell_type": "code",
   "execution_count": 232,
   "id": "e2eaff5f-9559-485e-9937-3c3b47efe608",
   "metadata": {},
   "outputs": [],
   "source": [
    "Q1,Q3=np.percentile(df['DiabetesPedigreeFunction'],[25,75])\n",
    "IQR=Q3-Q1\n",
    "LF=Q1-1.5*IQR\n",
    "UF=Q3+1.5*IQR\n",
    "df= df[(df['DiabetesPedigreeFunction']>LF) & (df['DiabetesPedigreeFunction']<UF)]\n"
   ]
  },
  {
   "cell_type": "code",
   "execution_count": null,
   "id": "1ea8244f-5375-4563-ac94-b77bbf684d22",
   "metadata": {},
   "outputs": [],
   "source": []
  },
  {
   "cell_type": "code",
   "execution_count": 233,
   "id": "d2fe85c6-102d-4464-a249-ec6009961cad",
   "metadata": {},
   "outputs": [
    {
     "data": {
      "text/plain": [
       "<Axes: xlabel='Age'>"
      ]
     },
     "execution_count": 233,
     "metadata": {},
     "output_type": "execute_result"
    },
    {
     "data": {
      "image/png": "[encoded data removed]",
      "text/plain": [
       "<Figure size 640x480 with 1 Axes>"
      ]
     },
     "metadata": {},
     "output_type": "display_data"
    }
   ],
   "source": [
    "sns.boxplot(x= df['Age'],data=df)"
   ]
  },
  {
   "cell_type": "code",
   "execution_count": 234,
   "id": "c3e214f1-e801-49b1-aacc-0653f630d18d",
   "metadata": {},
   "outputs": [],
   "source": [
    "Q1,Q3=np.percentile(df['Age'],[25,75])\n",
    "IQR=Q3-Q1\n",
    "LF=Q1-1.5*IQR\n",
    "UF=Q3+1.5*IQR\n",
    "df= df[(df['Age']>LF) & (df['Age']<UF)]"
   ]
  },
  {
   "cell_type": "code",
   "execution_count": 235,
   "id": "925fb200-3443-4cd1-ac8a-a889b1a80e20",
   "metadata": {},
   "outputs": [
    {
     "data": {
      "text/plain": [
       "(636, 9)"
      ]
     },
     "execution_count": 235,
     "metadata": {},
     "output_type": "execute_result"
    }
   ],
   "source": [
    "df.shape"
   ]
  },
  {
   "cell_type": "code",
   "execution_count": 456,
   "id": "c98a2c42-bf6f-4957-9292-2700569a9a62",
   "metadata": {},
   "outputs": [
    {
     "data": {
      "text/html": [
       "<div>\n",
       "<style scoped>\n",
       "    .dataframe tbody tr th:only-of-type {\n",
       "        vertical-align: middle;\n",
       "    }\n",
       "\n",
       "    .dataframe tbody tr th {\n",
       "        vertical-align: top;\n",
       "    }\n",
       "\n",
       "    .dataframe thead th {\n",
       "        text-align: right;\n",
       "    }\n",
       "</style>\n",
       "<table border=\"1\" class=\"dataframe\">\n",
       "  <thead>\n",
       "    <tr style=\"text-align: right;\">\n",
       "      <th></th>\n",
       "      <th>Pregnancies</th>\n",
       "      <th>Glucose</th>\n",
       "      <th>BloodPressure</th>\n",
       "      <th>SkinThickness</th>\n",
       "      <th>Insulin</th>\n",
       "      <th>BMI</th>\n",
       "      <th>DiabetesPedigreeFunction</th>\n",
       "      <th>Age</th>\n",
       "      <th>Outcome</th>\n",
       "    </tr>\n",
       "  </thead>\n",
       "  <tbody>\n",
       "    <tr>\n",
       "      <th>Pregnancies</th>\n",
       "      <td>1.000000</td>\n",
       "      <td>0.131807</td>\n",
       "      <td>0.205941</td>\n",
       "      <td>-0.090282</td>\n",
       "      <td>-0.089290</td>\n",
       "      <td>0.033049</td>\n",
       "      <td>-0.010179</td>\n",
       "      <td>0.581670</td>\n",
       "      <td>0.232391</td>\n",
       "    </tr>\n",
       "    <tr>\n",
       "      <th>Glucose</th>\n",
       "      <td>0.131807</td>\n",
       "      <td>1.000000</td>\n",
       "      <td>0.226342</td>\n",
       "      <td>0.016667</td>\n",
       "      <td>0.278115</td>\n",
       "      <td>0.193795</td>\n",
       "      <td>0.049141</td>\n",
       "      <td>0.270411</td>\n",
       "      <td>0.494067</td>\n",
       "    </tr>\n",
       "    <tr>\n",
       "      <th>BloodPressure</th>\n",
       "      <td>0.205941</td>\n",
       "      <td>0.226342</td>\n",
       "      <td>1.000000</td>\n",
       "      <td>0.043437</td>\n",
       "      <td>-0.021548</td>\n",
       "      <td>0.295835</td>\n",
       "      <td>0.017603</td>\n",
       "      <td>0.347158</td>\n",
       "      <td>0.175838</td>\n",
       "    </tr>\n",
       "    <tr>\n",
       "      <th>SkinThickness</th>\n",
       "      <td>-0.090282</td>\n",
       "      <td>0.016667</td>\n",
       "      <td>0.043437</td>\n",
       "      <td>1.000000</td>\n",
       "      <td>0.479038</td>\n",
       "      <td>0.389314</td>\n",
       "      <td>0.162642</td>\n",
       "      <td>-0.121766</td>\n",
       "      <td>0.047589</td>\n",
       "    </tr>\n",
       "    <tr>\n",
       "      <th>Insulin</th>\n",
       "      <td>-0.089290</td>\n",
       "      <td>0.278115</td>\n",
       "      <td>-0.021548</td>\n",
       "      <td>0.479038</td>\n",
       "      <td>1.000000</td>\n",
       "      <td>0.186572</td>\n",
       "      <td>0.216340</td>\n",
       "      <td>-0.050083</td>\n",
       "      <td>0.122651</td>\n",
       "    </tr>\n",
       "    <tr>\n",
       "      <th>BMI</th>\n",
       "      <td>0.033049</td>\n",
       "      <td>0.193795</td>\n",
       "      <td>0.295835</td>\n",
       "      <td>0.389314</td>\n",
       "      <td>0.186572</td>\n",
       "      <td>1.000000</td>\n",
       "      <td>0.146864</td>\n",
       "      <td>0.064727</td>\n",
       "      <td>0.272459</td>\n",
       "    </tr>\n",
       "    <tr>\n",
       "      <th>DiabetesPedigreeFunction</th>\n",
       "      <td>-0.010179</td>\n",
       "      <td>0.049141</td>\n",
       "      <td>0.017603</td>\n",
       "      <td>0.162642</td>\n",
       "      <td>0.216340</td>\n",
       "      <td>0.146864</td>\n",
       "      <td>1.000000</td>\n",
       "      <td>0.034006</td>\n",
       "      <td>0.169383</td>\n",
       "    </tr>\n",
       "    <tr>\n",
       "      <th>Age</th>\n",
       "      <td>0.581670</td>\n",
       "      <td>0.270411</td>\n",
       "      <td>0.347158</td>\n",
       "      <td>-0.121766</td>\n",
       "      <td>-0.050083</td>\n",
       "      <td>0.064727</td>\n",
       "      <td>0.034006</td>\n",
       "      <td>1.000000</td>\n",
       "      <td>0.265540</td>\n",
       "    </tr>\n",
       "    <tr>\n",
       "      <th>Outcome</th>\n",
       "      <td>0.232391</td>\n",
       "      <td>0.494067</td>\n",
       "      <td>0.175838</td>\n",
       "      <td>0.047589</td>\n",
       "      <td>0.122651</td>\n",
       "      <td>0.272459</td>\n",
       "      <td>0.169383</td>\n",
       "      <td>0.265540</td>\n",
       "      <td>1.000000</td>\n",
       "    </tr>\n",
       "  </tbody>\n",
       "</table>\n",
       "</div>"
      ],
      "text/plain": [
       "                          Pregnancies   Glucose  BloodPressure  SkinThickness  \\\n",
       "Pregnancies                  1.000000  0.131807       0.205941      -0.090282   \n",
       "Glucose                      0.131807  1.000000       0.226342       0.016667   \n",
       "BloodPressure                0.205941  0.226342       1.000000       0.043437   \n",
       "SkinThickness               -0.090282  0.016667       0.043437       1.000000   \n",
       "Insulin                     -0.089290  0.278115      -0.021548       0.479038   \n",
       "BMI                          0.033049  0.193795       0.295835       0.389314   \n",
       "DiabetesPedigreeFunction    -0.010179  0.049141       0.017603       0.162642   \n",
       "Age                          0.581670  0.270411       0.347158      -0.121766   \n",
       "Outcome                      0.232391  0.494067       0.175838       0.047589   \n",
       "\n",
       "                           Insulin       BMI  DiabetesPedigreeFunction  \\\n",
       "Pregnancies              -0.089290  0.033049                 -0.010179   \n",
       "Glucose                   0.278115  0.193795                  0.049141   \n",
       "BloodPressure            -0.021548  0.295835                  0.017603   \n",
       "SkinThickness             0.479038  0.389314                  0.162642   \n",
       "Insulin                   1.000000  0.186572                  0.216340   \n",
       "BMI                       0.186572  1.000000                  0.146864   \n",
       "DiabetesPedigreeFunction  0.216340  0.146864                  1.000000   \n",
       "Age                      -0.050083  0.064727                  0.034006   \n",
       "Outcome                   0.122651  0.272459                  0.169383   \n",
       "\n",
       "                               Age   Outcome  \n",
       "Pregnancies               0.581670  0.232391  \n",
       "Glucose                   0.270411  0.494067  \n",
       "BloodPressure             0.347158  0.175838  \n",
       "SkinThickness            -0.121766  0.047589  \n",
       "Insulin                  -0.050083  0.122651  \n",
       "BMI                       0.064727  0.272459  \n",
       "DiabetesPedigreeFunction  0.034006  0.169383  \n",
       "Age                       1.000000  0.265540  \n",
       "Outcome                   0.265540  1.000000  "
      ]
     },
     "execution_count": 456,
     "metadata": {},
     "output_type": "execute_result"
    }
   ],
   "source": [
    "df.corr()"
   ]
  },
  {
   "cell_type": "code",
   "execution_count": 457,
   "id": "07e7c7c5-7133-44b7-9628-ffbecc523388",
   "metadata": {},
   "outputs": [],
   "source": [
    "df1= df.copy()"
   ]
  },
  {
   "cell_type": "code",
   "execution_count": 458,
   "id": "a5b15acb-405e-42c2-81fb-0891f8881910",
   "metadata": {},
   "outputs": [
    {
     "data": {
      "text/html": [
       "<div>\n",
       "<style scoped>\n",
       "    .dataframe tbody tr th:only-of-type {\n",
       "        vertical-align: middle;\n",
       "    }\n",
       "\n",
       "    .dataframe tbody tr th {\n",
       "        vertical-align: top;\n",
       "    }\n",
       "\n",
       "    .dataframe thead th {\n",
       "        text-align: right;\n",
       "    }\n",
       "</style>\n",
       "<table border=\"1\" class=\"dataframe\">\n",
       "  <thead>\n",
       "    <tr style=\"text-align: right;\">\n",
       "      <th></th>\n",
       "      <th>Pregnancies</th>\n",
       "      <th>Glucose</th>\n",
       "      <th>BloodPressure</th>\n",
       "      <th>SkinThickness</th>\n",
       "      <th>Insulin</th>\n",
       "      <th>BMI</th>\n",
       "      <th>DiabetesPedigreeFunction</th>\n",
       "      <th>Age</th>\n",
       "      <th>Outcome</th>\n",
       "    </tr>\n",
       "  </thead>\n",
       "  <tbody>\n",
       "    <tr>\n",
       "      <th>0</th>\n",
       "      <td>6</td>\n",
       "      <td>148</td>\n",
       "      <td>72</td>\n",
       "      <td>35</td>\n",
       "      <td>0</td>\n",
       "      <td>33.6</td>\n",
       "      <td>0.627</td>\n",
       "      <td>50</td>\n",
       "      <td>1</td>\n",
       "    </tr>\n",
       "    <tr>\n",
       "      <th>1</th>\n",
       "      <td>1</td>\n",
       "      <td>85</td>\n",
       "      <td>66</td>\n",
       "      <td>29</td>\n",
       "      <td>0</td>\n",
       "      <td>26.6</td>\n",
       "      <td>0.351</td>\n",
       "      <td>31</td>\n",
       "      <td>0</td>\n",
       "    </tr>\n",
       "    <tr>\n",
       "      <th>2</th>\n",
       "      <td>8</td>\n",
       "      <td>183</td>\n",
       "      <td>64</td>\n",
       "      <td>0</td>\n",
       "      <td>0</td>\n",
       "      <td>23.3</td>\n",
       "      <td>0.672</td>\n",
       "      <td>32</td>\n",
       "      <td>1</td>\n",
       "    </tr>\n",
       "    <tr>\n",
       "      <th>3</th>\n",
       "      <td>1</td>\n",
       "      <td>89</td>\n",
       "      <td>66</td>\n",
       "      <td>23</td>\n",
       "      <td>94</td>\n",
       "      <td>28.1</td>\n",
       "      <td>0.167</td>\n",
       "      <td>21</td>\n",
       "      <td>0</td>\n",
       "    </tr>\n",
       "    <tr>\n",
       "      <th>5</th>\n",
       "      <td>5</td>\n",
       "      <td>116</td>\n",
       "      <td>74</td>\n",
       "      <td>0</td>\n",
       "      <td>0</td>\n",
       "      <td>25.6</td>\n",
       "      <td>0.201</td>\n",
       "      <td>30</td>\n",
       "      <td>0</td>\n",
       "    </tr>\n",
       "    <tr>\n",
       "      <th>...</th>\n",
       "      <td>...</td>\n",
       "      <td>...</td>\n",
       "      <td>...</td>\n",
       "      <td>...</td>\n",
       "      <td>...</td>\n",
       "      <td>...</td>\n",
       "      <td>...</td>\n",
       "      <td>...</td>\n",
       "      <td>...</td>\n",
       "    </tr>\n",
       "    <tr>\n",
       "      <th>763</th>\n",
       "      <td>10</td>\n",
       "      <td>101</td>\n",
       "      <td>76</td>\n",
       "      <td>48</td>\n",
       "      <td>180</td>\n",
       "      <td>32.9</td>\n",
       "      <td>0.171</td>\n",
       "      <td>63</td>\n",
       "      <td>0</td>\n",
       "    </tr>\n",
       "    <tr>\n",
       "      <th>764</th>\n",
       "      <td>2</td>\n",
       "      <td>122</td>\n",
       "      <td>70</td>\n",
       "      <td>27</td>\n",
       "      <td>0</td>\n",
       "      <td>36.8</td>\n",
       "      <td>0.340</td>\n",
       "      <td>27</td>\n",
       "      <td>0</td>\n",
       "    </tr>\n",
       "    <tr>\n",
       "      <th>765</th>\n",
       "      <td>5</td>\n",
       "      <td>121</td>\n",
       "      <td>72</td>\n",
       "      <td>23</td>\n",
       "      <td>112</td>\n",
       "      <td>26.2</td>\n",
       "      <td>0.245</td>\n",
       "      <td>30</td>\n",
       "      <td>0</td>\n",
       "    </tr>\n",
       "    <tr>\n",
       "      <th>766</th>\n",
       "      <td>1</td>\n",
       "      <td>126</td>\n",
       "      <td>60</td>\n",
       "      <td>0</td>\n",
       "      <td>0</td>\n",
       "      <td>30.1</td>\n",
       "      <td>0.349</td>\n",
       "      <td>47</td>\n",
       "      <td>1</td>\n",
       "    </tr>\n",
       "    <tr>\n",
       "      <th>767</th>\n",
       "      <td>1</td>\n",
       "      <td>93</td>\n",
       "      <td>70</td>\n",
       "      <td>31</td>\n",
       "      <td>0</td>\n",
       "      <td>30.4</td>\n",
       "      <td>0.315</td>\n",
       "      <td>23</td>\n",
       "      <td>0</td>\n",
       "    </tr>\n",
       "  </tbody>\n",
       "</table>\n",
       "<p>636 rows × 9 columns</p>\n",
       "</div>"
      ],
      "text/plain": [
       "     Pregnancies  Glucose  BloodPressure  SkinThickness  Insulin   BMI  \\\n",
       "0              6      148             72             35        0  33.6   \n",
       "1              1       85             66             29        0  26.6   \n",
       "2              8      183             64              0        0  23.3   \n",
       "3              1       89             66             23       94  28.1   \n",
       "5              5      116             74              0        0  25.6   \n",
       "..           ...      ...            ...            ...      ...   ...   \n",
       "763           10      101             76             48      180  32.9   \n",
       "764            2      122             70             27        0  36.8   \n",
       "765            5      121             72             23      112  26.2   \n",
       "766            1      126             60              0        0  30.1   \n",
       "767            1       93             70             31        0  30.4   \n",
       "\n",
       "     DiabetesPedigreeFunction  Age  Outcome  \n",
       "0                       0.627   50        1  \n",
       "1                       0.351   31        0  \n",
       "2                       0.672   32        1  \n",
       "3                       0.167   21        0  \n",
       "5                       0.201   30        0  \n",
       "..                        ...  ...      ...  \n",
       "763                     0.171   63        0  \n",
       "764                     0.340   27        0  \n",
       "765                     0.245   30        0  \n",
       "766                     0.349   47        1  \n",
       "767                     0.315   23        0  \n",
       "\n",
       "[636 rows x 9 columns]"
      ]
     },
     "execution_count": 458,
     "metadata": {},
     "output_type": "execute_result"
    }
   ],
   "source": [
    "df1"
   ]
  },
  {
   "cell_type": "code",
   "execution_count": 459,
   "id": "f251f670-78c0-4489-bca6-f86f92fe9b3e",
   "metadata": {},
   "outputs": [
    {
     "data": {
      "text/plain": [
       "Pregnancies                 0\n",
       "Glucose                     0\n",
       "BloodPressure               0\n",
       "SkinThickness               0\n",
       "Insulin                     0\n",
       "BMI                         0\n",
       "DiabetesPedigreeFunction    0\n",
       "Age                         0\n",
       "Outcome                     0\n",
       "dtype: int64"
      ]
     },
     "execution_count": 459,
     "metadata": {},
     "output_type": "execute_result"
    }
   ],
   "source": [
    "df.isnull().sum()"
   ]
  },
  {
   "cell_type": "code",
   "execution_count": 460,
   "id": "2bde2a36-16f8-43d5-95ca-b90de3effed9",
   "metadata": {},
   "outputs": [],
   "source": [
    "X=df1.drop('Outcome',axis=1)\n",
    "Y=df1['Outcome']"
   ]
  },
  {
   "cell_type": "code",
   "execution_count": 461,
   "id": "52f62906-56e2-4d53-a66f-accd93f5464b",
   "metadata": {},
   "outputs": [],
   "source": [
    "from imblearn.over_sampling import SMOTE\n",
    "import random\n",
    "\n",
    "\n",
    "\n",
    "# Initialize SMOTE with the random random_state value\n",
    "oversamples = SMOTE()\n",
    "\n",
    "# Perform the oversampling\n",
    "X_sm, Y_sm = oversamples.fit_resample(X, Y)\n"
   ]
  },
  {
   "cell_type": "code",
   "execution_count": 462,
   "id": "c849b274-4760-4d95-8511-bfe33868498c",
   "metadata": {},
   "outputs": [
    {
     "data": {
      "text/plain": [
       "438"
      ]
     },
     "execution_count": 462,
     "metadata": {},
     "output_type": "execute_result"
    }
   ],
   "source": [
    "len(Y_sm[Y_sm==0])\n"
   ]
  },
  {
   "cell_type": "code",
   "execution_count": 463,
   "id": "9809cb28-c6cc-42a8-bb0f-b1440571b505",
   "metadata": {},
   "outputs": [
    {
     "data": {
      "text/plain": [
       "438"
      ]
     },
     "execution_count": 463,
     "metadata": {},
     "output_type": "execute_result"
    }
   ],
   "source": [
    "len(Y_sm[Y_sm==1])\n"
   ]
  },
  {
   "cell_type": "code",
   "execution_count": 464,
   "id": "f16ad355-f1fe-471b-80e2-48fc2b5273bd",
   "metadata": {},
   "outputs": [],
   "source": [
    "from sklearn.model_selection import train_test_split\n",
    "X_train,X_test,Y_train,Y_test=train_test_split(X_sm,Y_sm,test_size=0.2,random_state=1)"
   ]
  },
  {
   "cell_type": "code",
   "execution_count": 465,
   "id": "ed90b714-125d-4306-b6bc-9a53318ffe34",
   "metadata": {},
   "outputs": [],
   "source": [
    "from sklearn.linear_model import LogisticRegression\n",
    "model=LogisticRegression()\n",
    "model.fit(X_train,Y_train)\n",
    "y_pred_logistic=model.predict(X_test)"
   ]
  },
  {
   "cell_type": "code",
   "execution_count": 466,
   "id": "e129592b-2e18-432d-99e1-0d9ef8016c9f",
   "metadata": {},
   "outputs": [],
   "source": [
    "from sklearn.svm import SVC\n",
    "classifier = SVC(kernel = 'linear')\n",
    "classifier.fit(X_train,Y_train)\n",
    "y_pred_svc= classifier.predict(X_test)"
   ]
  },
  {
   "cell_type": "code",
   "execution_count": 467,
   "id": "7ef31aeb-aab1-4f3c-a0d7-33bc5e695ff6",
   "metadata": {},
   "outputs": [],
   "source": [
    "from sklearn.tree import DecisionTreeClassifier\n",
    "cls=DecisionTreeClassifier(criterion='entropy')\n",
    "cls.fit(X_train,Y_train)\n",
    "y_pred_dtc= cls.predict(X_test)"
   ]
  },
  {
   "cell_type": "code",
   "execution_count": 468,
   "id": "ee5e9527-46cd-4119-bb56-949fa6c29d7d",
   "metadata": {},
   "outputs": [
    {
     "name": "stdout",
     "output_type": "stream",
     "text": [
      "The accuracy_score  of Lgistic regression is :\n",
      "0.8011363636363636\n",
      "\n",
      "\n",
      "The accuracy_score of support vector machine is :\n",
      "0.8011363636363636\n",
      "\n",
      "\n",
      "The accuracy_score of the Decision Tree Classifier is :\n",
      "0.7954545454545454\n"
     ]
    }
   ],
   "source": [
    "from sklearn.metrics import accuracy_score,classification_report,confusion_matrix\n",
    "print(\"The accuracy_score  of Lgistic regression is :\")\n",
    "print(accuracy_score(y_pred_logistic,Y_test))\n",
    "\n",
    "print(\"\\n\")\n",
    "\n",
    "print(\"The accuracy_score of support vector machine is :\")\n",
    "print(accuracy_score(y_pred_svc,Y_test))\n",
    "print(\"\\n\")\n",
    "\n",
    "print(\"The accuracy_score of the Decision Tree Classifier is :\")\n",
    "print(accuracy_score(y_pred_dtc,Y_test))"
   ]
  },
  {
   "cell_type": "code",
   "execution_count": null,
   "id": "65000617-e069-488c-82d3-10bc487115b2",
   "metadata": {},
   "outputs": [],
   "source": []
  },
  {
   "cell_type": "code",
   "execution_count": null,
   "id": "ba823dc8-99d5-4939-9082-089dc601f24a",
   "metadata": {},
   "outputs": [],
   "source": []
  }
 ],
 "metadata": {
  "kernelspec": {
   "display_name": "Python 3 (ipykernel)",
   "language": "python",
   "name": "python3"
  },
  "language_info": {
   "codemirror_mode": {
    "name": "ipython",
    "version": 3
   },
   "file_extension": ".py",
   "mimetype": "text/x-python",
   "name": "python",
   "nbconvert_exporter": "python",
   "pygments_lexer": "ipython3",
   "version": "3.11.1"
  }
 },
 "nbformat": 4,
 "nbformat_minor": 5
}
